{
 "cells": [
  {
   "cell_type": "code",
   "execution_count": null,
   "metadata": {},
   "outputs": [],
   "source": [
    "# pip install twint module from its repo\n",
    "#!pip3 install --user --upgrade git+https://github.com/twintproject/twint.git@origin/master#egg=twint\n"
   ]
  },
  {
   "cell_type": "code",
   "execution_count": null,
   "metadata": {},
   "outputs": [],
   "source": [
    "## There are known issues running twint in jupyter, nest_asyncio may be able to solve the problem. \n",
    "## When in an environment where the event loop is already running it’s impossible to run tasks and wait for the result.\n",
    "## nest_asyncio may solve this problem\n",
    " \n",
    "#!pip install nest_asyncio"
   ]
  },
  {
   "cell_type": "code",
   "execution_count": 2,
   "metadata": {},
   "outputs": [],
   "source": [
    "\n",
    "import twint\n",
    "\n",
    "import nest_asyncio\n",
    "nest_asyncio.apply()\n"
   ]
  },
  {
   "cell_type": "code",
   "execution_count": null,
   "metadata": {},
   "outputs": [],
   "source": [
    "#Search items\n",
    "\n",
    "env_keyword = [\"extinction rebellion\", \"greta thunberg\", \"global warming\", \"climate\"]"
   ]
  },
  {
   "cell_type": "code",
   "execution_count": 9,
   "metadata": {},
   "outputs": [
    {
     "name": "stdout",
     "output_type": "stream",
     "text": [
      "[!] No more data! Scraping will stop now.\n",
      "found 0 deleted tweets in this search.\n"
     ]
    }
   ],
   "source": [
    "appended_data = []\n",
    "\n",
    "for keyword in env_keyword:\n",
    "    config = twint.Config()\n",
    "    #config.Username = \"guardian\"\n",
    "    config.Search = keyword\n",
    "\n",
    "    config.Lang = \"en\"\n",
    "    config.Limit = 500000\n",
    "    config.Since = \"2015-10-01 00:00:00\"\n",
    "    config.Until = \"2016-10-01 00:00:00\"\n",
    "    config.Hide_output = True\n",
    "    config.Pandas = True\n",
    "    #running search\n",
    "    twint.run.Search(config)\n",
    "    Tweets_df = twint.storage.panda.Tweets_df\n",
    "    appended_data.append(Tweets_df)  \n",
    "\n",
    "# see pd.concat documentation for more info\n",
    "appended_data = pd.concat(appended_data).sort_values(by=['date']).reset_index()\n",
    "\n",
    "    \n",
    "    #config.Store_csv = True    #the Store_csv option doesn't work very well\n",
    "    #config.Output = \"envir_extrebellion_gretathunberg_20152016.csv\"\n",
    "    #config.Store_json = True\n",
    "    #config.Output = \"ext_reb_protest_end01112019.json\"\n",
    "    #config.Geo = \"48.880048,2.385939,10km.\"\n",
    "\n"
   ]
  },
  {
   "cell_type": "code",
   "execution_count": null,
   "metadata": {},
   "outputs": [],
   "source": [
    "appended_data.shape\n"
   ]
  },
  {
   "cell_type": "code",
   "execution_count": null,
   "metadata": {},
   "outputs": [],
   "source": [
    "# with this command I'm checking \n",
    "\n",
    "appended_data.groupby('search').sum().shape, len(search_concatenation)"
   ]
  },
  {
   "cell_type": "code",
   "execution_count": null,
   "metadata": {},
   "outputs": [],
   "source": []
  },
  {
   "cell_type": "code",
   "execution_count": 13,
   "metadata": {},
   "outputs": [],
   "source": [
    "import pandas as pd\n",
    "import numpy as np\n",
    "import os"
   ]
  },
  {
   "cell_type": "code",
   "execution_count": 14,
   "metadata": {},
   "outputs": [
    {
     "data": {
      "text/plain": [
       "'D:\\\\free_softwares\\\\twint_tweets'"
      ]
     },
     "execution_count": 14,
     "metadata": {},
     "output_type": "execute_result"
    }
   ],
   "source": [
    "os.getcwd()"
   ]
  },
  {
   "cell_type": "code",
   "execution_count": 30,
   "metadata": {},
   "outputs": [],
   "source": [
    "#save df into pickle\n",
    "#pd.DataFrame.to_pickle(df, \"env_df1516.pkl\")\n",
    "\n",
    "#save df into csv\n",
    "appended_data.to_csv(df, \"env_df1516.csv\", index=False)"
   ]
  },
  {
   "cell_type": "code",
   "execution_count": 26,
   "metadata": {},
   "outputs": [],
   "source": []
  }
 ],
 "metadata": {
  "kernelspec": {
   "display_name": "Python 3",
   "language": "python",
   "name": "python3"
  },
  "language_info": {
   "codemirror_mode": {
    "name": "ipython",
    "version": 3
   },
   "file_extension": ".py",
   "mimetype": "text/x-python",
   "name": "python",
   "nbconvert_exporter": "python",
   "pygments_lexer": "ipython3",
   "version": "3.8.0"
  }
 },
 "nbformat": 4,
 "nbformat_minor": 4
}
